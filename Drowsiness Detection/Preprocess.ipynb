{
  "nbformat": 4,
  "nbformat_minor": 0,
  "metadata": {
    "colab": {
      "name": "eyePreprocess.ipynb",
      "provenance": [],
      "collapsed_sections": []
    },
    "kernelspec": {
      "name": "python3",
      "display_name": "Python 3"
    }
  },
  "cells": [
    {
      "cell_type": "code",
      "metadata": {
        "id": "FqQoCBdDFF44",
        "colab_type": "code",
        "colab": {}
      },
      "source": [
        "import numpy as np\n",
        "import os\n",
        "import matplotlib.pyplot as plt"
      ],
      "execution_count": 0,
      "outputs": []
    },
    {
      "cell_type": "code",
      "metadata": {
        "id": "Bn6UYuqSGSgy",
        "colab_type": "code",
        "colab": {}
      },
      "source": [
        "import cv2\n",
        "from six.moves import cPickle as pickle"
      ],
      "execution_count": 0,
      "outputs": []
    },
    {
      "cell_type": "code",
      "metadata": {
        "id": "pO--M5_FGWtD",
        "colab_type": "code",
        "colab": {}
      },
      "source": [
        "dirs1 = ['/content/drive/My Drive/dataset_B_Eye_Images/openLeftEyes', '/content/drive/My Drive/dataset_B_Eye_Images/openRightEyes']\n",
        "dirs2 = ['/content/drive/My Drive/dataset_B_Eye_Images/closedLeftEyes', '/content/drive/My Drive/dataset_B_Eye_Images/closedRightEyes']"
      ],
      "execution_count": 0,
      "outputs": []
    },
    {
      "cell_type": "code",
      "metadata": {
        "id": "rW0Kb0PYM7CT",
        "colab_type": "code",
        "colab": {}
      },
      "source": [
        "def dataset_generation_open():\n",
        "    dataset = np.ndarray([1231 * 2, 24, 24, 1], dtype='float32')\n",
        "    i = 0\n",
        "    for dir in dirs1:\n",
        "        for filename in os.listdir(dir):\n",
        "            if filename.endswith('.jpg'):\n",
        "                im = cv2.imread(dir + '/' + filename)\n",
        "                im = np.dot(np.array(im, dtype='float32'), [[0.2989], [0.5870], [0.1140]]) / 255\n",
        "                dataset[i, :, :, :] = im[:, :, :]\n",
        "                i += 1\n",
        "    labels = np.ones([len(dataset), 1], dtype=int)\n",
        "    return dataset, labels"
      ],
      "execution_count": 0,
      "outputs": []
    },
    {
      "cell_type": "code",
      "metadata": {
        "id": "J849s-KGNCzl",
        "colab_type": "code",
        "colab": {}
      },
      "source": [
        "def dataset_generation_closed():\n",
        "    dataset = np.ndarray([1192 * 2, 24, 24, 1], dtype='float32')\n",
        "    i = 0\n",
        "    for dir in dirs2:\n",
        "        for filename in os.listdir(dir):\n",
        "            if filename.endswith('.jpg'):\n",
        "                im = cv2.imread(dir + '/' + filename)\n",
        "                im = np.dot(np.array(im, dtype='float32'), [[0.2989], [0.5870], [0.1140]]) / 255\n",
        "                dataset[i, :, :, :] = im[:, :, :]\n",
        "                i += 1\n",
        "    labels = np.zeros([len(dataset), 1], dtype=int)\n",
        "    return dataset, labels"
      ],
      "execution_count": 0,
      "outputs": []
    },
    {
      "cell_type": "code",
      "metadata": {
        "id": "uJoxv4HPNHME",
        "colab_type": "code",
        "outputId": "eae819d6-4c81-4643-8e7f-f38f0498880e",
        "colab": {
          "base_uri": "https://localhost:8080/",
          "height": 34
        }
      },
      "source": [
        "open_dataset, open_labels = dataset_generation_open()\n",
        "print(\"done\")"
      ],
      "execution_count": 0,
      "outputs": [
        {
          "output_type": "stream",
          "text": [
            "done\n"
          ],
          "name": "stdout"
        }
      ]
    },
    {
      "cell_type": "code",
      "metadata": {
        "id": "IFv3CSSAi1kK",
        "colab_type": "code",
        "outputId": "b4557d4a-0cd2-4cf0-d272-efcab7106625",
        "colab": {
          "base_uri": "https://localhost:8080/",
          "height": 34
        }
      },
      "source": [
        "closed_dataset, closed_labels = dataset_generation_closed()\n",
        "print(\"done\")"
      ],
      "execution_count": 0,
      "outputs": [
        {
          "output_type": "stream",
          "text": [
            "done\n"
          ],
          "name": "stdout"
        }
      ]
    },
    {
      "cell_type": "code",
      "metadata": {
        "id": "YG3pI1cHNH4n",
        "colab_type": "code",
        "colab": {}
      },
      "source": [
        "split = int(len(closed_dataset) * 0.8)\n",
        "dataset_train_closed = closed_dataset[:split]\n",
        "labels_train_closed = closed_labels[:split]\n",
        "dataset_test_closed = closed_dataset[split:]\n",
        "labels_test_closed = closed_labels[split:]"
      ],
      "execution_count": 0,
      "outputs": []
    },
    {
      "cell_type": "code",
      "metadata": {
        "id": "hH6XQnuRNKAt",
        "colab_type": "code",
        "colab": {}
      },
      "source": [
        "pickle_file = 'closed_eyes.pickle'"
      ],
      "execution_count": 0,
      "outputs": []
    },
    {
      "cell_type": "code",
      "metadata": {
        "id": "L5Sw1QPUNPGg",
        "colab_type": "code",
        "colab": {}
      },
      "source": [
        "try:\n",
        "    f = open(pickle_file, 'wb')\n",
        "    save = {\n",
        "        'train_dataset': dataset_train_closed,\n",
        "        'train_labels': labels_train_closed,\n",
        "        'test_dataset': dataset_test_closed,\n",
        "        'test_labels': labels_test_closed,\n",
        "    }\n",
        "    pickle.dump(save, f, pickle.HIGHEST_PROTOCOL)\n",
        "    f.close()\n",
        "except Exception as e:\n",
        "    print('Unable to save data to', pickle_file, ':', e)\n",
        "    raise"
      ],
      "execution_count": 0,
      "outputs": []
    },
    {
      "cell_type": "code",
      "metadata": {
        "id": "najUQbAxNQvp",
        "colab_type": "code",
        "outputId": "5bd6b0ac-bc87-491c-d13d-553ac761caf9",
        "colab": {
          "base_uri": "https://localhost:8080/",
          "height": 34
        }
      },
      "source": [
        "statinfo = os.stat(pickle_file)\n",
        "print('Compressed pickle size:', statinfo.st_size)"
      ],
      "execution_count": 0,
      "outputs": [
        {
          "output_type": "stream",
          "text": [
            "Compressed pickle size: 5512199\n"
          ],
          "name": "stdout"
        }
      ]
    },
    {
      "cell_type": "code",
      "metadata": {
        "id": "oW1ypZH8NUZ6",
        "colab_type": "code",
        "colab": {}
      },
      "source": [
        "split = int(len(dataset_open) * 0.8)\n",
        "dataset_train_open = open_dataset[:split]\n",
        "labels_train_open = open_labels[:split]\n",
        "dataset_test_open = open_dataset[split:]\n",
        "labels_test_open = open_labels[split:]"
      ],
      "execution_count": 0,
      "outputs": []
    },
    {
      "cell_type": "code",
      "metadata": {
        "id": "fFRGbCEkNWTy",
        "colab_type": "code",
        "colab": {}
      },
      "source": [
        "pickle_file = 'open_eyes.pickle'"
      ],
      "execution_count": 0,
      "outputs": []
    },
    {
      "cell_type": "code",
      "metadata": {
        "id": "loxkPGYXNYma",
        "colab_type": "code",
        "colab": {}
      },
      "source": [
        "try:\n",
        "    f = open(pickle_file, 'wb')\n",
        "    save = {\n",
        "        'train_dataset': dataset_train_open,\n",
        "        'train_labels': labels_train_open,\n",
        "        'test_dataset': dataset_test_open,\n",
        "        'test_labels': labels_test_open,\n",
        "    }\n",
        "    pickle.dump(save, f, pickle.HIGHEST_PROTOCOL)\n",
        "    f.close()\n",
        "except Exception as e:\n",
        "    print('Unable to save data to', pickle_file, ':', e)\n",
        "    raise"
      ],
      "execution_count": 0,
      "outputs": []
    },
    {
      "cell_type": "code",
      "metadata": {
        "id": "QPVBZsafNbdV",
        "colab_type": "code",
        "outputId": "ccd374de-51aa-4cee-9b7b-68417574f3dc",
        "colab": {
          "base_uri": "https://localhost:8080/",
          "height": 34
        }
      },
      "source": [
        "statinfo = os.stat(pickle_file)\n",
        "print('Compressed pickle size:', statinfo.st_size)"
      ],
      "execution_count": 0,
      "outputs": [
        {
          "output_type": "stream",
          "text": [
            "Compressed pickle size: 5692535\n"
          ],
          "name": "stdout"
        }
      ]
    }
  ]
}
