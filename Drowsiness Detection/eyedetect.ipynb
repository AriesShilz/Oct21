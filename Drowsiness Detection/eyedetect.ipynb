{
  "nbformat": 4,
  "nbformat_minor": 0,
  "metadata": {
    "colab": {
      "name": "eyedetect.ipynb",
      "provenance": []
    },
    "kernelspec": {
      "name": "python3",
      "display_name": "Python 3"
    }
  },
  "cells": [
    {
      "cell_type": "code",
      "metadata": {
        "id": "5339bp3Twitn",
        "colab_type": "code",
        "outputId": "51fe2203-bb54-4e25-f171-402f0b2f9f30",
        "colab": {
          "base_uri": "https://localhost:8080/",
          "height": 114
        }
      },
      "source": [
        "import cv2\n",
        "import os\n",
        "import time\n",
        "import numpy as np\n",
        "from keras.models import load_model\n",
        "from pygame import mixer"
      ],
      "execution_count": 0,
      "outputs": [
        {
          "output_type": "stream",
          "text": [
            "Using TensorFlow backend.\n"
          ],
          "name": "stderr"
        },
        {
          "output_type": "display_data",
          "data": {
            "text/html": [
              "<p style=\"color: red;\">\n",
              "The default version of TensorFlow in Colab will switch to TensorFlow 2.x on the 27th of March, 2020.<br>\n",
              "We recommend you <a href=\"https://www.tensorflow.org/guide/migrate\" target=\"_blank\">upgrade</a> now\n",
              "or ensure your notebook will continue to use TensorFlow 1.x via the <code>%tensorflow_version 1.x</code> magic:\n",
              "<a href=\"https://colab.research.google.com/notebooks/tensorflow_version.ipynb\" target=\"_blank\">more info</a>.</p>\n"
            ],
            "text/plain": [
              "<IPython.core.display.HTML object>"
            ]
          },
          "metadata": {
            "tags": []
          }
        },
        {
          "output_type": "stream",
          "text": [
            "pygame 1.9.6\n",
            "Hello from the pygame community. https://www.pygame.org/contribute.html\n"
          ],
          "name": "stdout"
        }
      ]
    },
    {
      "cell_type": "code",
      "metadata": {
        "id": "OWFX-VresNoV",
        "colab_type": "code",
        "colab": {}
      },
      "source": [
        "mixer.init()\n",
        "alarm = mixer.Sound('alarm.wav')"
      ],
      "execution_count": 0,
      "outputs": []
    },
    {
      "cell_type": "code",
      "metadata": {
        "id": "tgf1LOQDw6Ym",
        "colab_type": "code",
        "colab": {}
      },
      "source": [
        "facial = cv2.CascadeClassifier('haarcascade_frontalface_alt.xml')\n",
        "lefteye = cv2.CascadeClassifier('haarcascade_lefteye_2splits.xml')\n",
        "righteye = cv2.CascadeClassifier('haarcascade_righteye_2splits.xml')"
      ],
      "execution_count": 0,
      "outputs": []
    },
    {
      "cell_type": "code",
      "metadata": {
        "id": "LeYGkfDMxBQQ",
        "colab_type": "code",
        "colab": {}
      },
      "source": [
        "lbl=['Close','Open']"
      ],
      "execution_count": 0,
      "outputs": []
    },
    {
      "cell_type": "code",
      "metadata": {
        "id": "77iShk9WDri1",
        "colab_type": "code",
        "outputId": "c917b657-95c9-4cc5-e3ef-cae9b1b2a24d",
        "colab": {
          "base_uri": "https://localhost:8080/",
          "height": 207
        }
      },
      "source": [
        "model = load_model('cnncat2.h5',custom_objects=None, compile=True)"
      ],
      "execution_count": 0,
      "outputs": [
        {
          "output_type": "stream",
          "text": [
            "WARNING:tensorflow:From /usr/local/lib/python3.6/dist-packages/tensorflow_core/python/ops/resource_variable_ops.py:1630: calling BaseResourceVariable.__init__ (from tensorflow.python.ops.resource_variable_ops) with constraint is deprecated and will be removed in a future version.\n",
            "Instructions for updating:\n",
            "If using Keras pass *_constraint arguments to layers.\n",
            "WARNING:tensorflow:From /usr/local/lib/python3.6/dist-packages/keras/backend/tensorflow_backend.py:4070: The name tf.nn.max_pool is deprecated. Please use tf.nn.max_pool2d instead.\n",
            "\n",
            "WARNING:tensorflow:From /usr/local/lib/python3.6/dist-packages/tensorflow_core/python/ops/nn_impl.py:183: where (from tensorflow.python.ops.array_ops) is deprecated and will be removed in a future version.\n",
            "Instructions for updating:\n",
            "Use tf.where in 2.0, which has the same broadcast rule as np.where\n",
            "WARNING:tensorflow:From /usr/local/lib/python3.6/dist-packages/keras/backend/tensorflow_backend.py:422: The name tf.global_variables is deprecated. Please use tf.compat.v1.global_variables instead.\n",
            "\n"
          ],
          "name": "stdout"
        }
      ]
    },
    {
      "cell_type": "code",
      "metadata": {
        "id": "5BacS3kVDuHW",
        "colab_type": "code",
        "colab": {}
      },
      "source": [
        "path = os.getcwd()"
      ],
      "execution_count": 0,
      "outputs": []
    },
    {
      "cell_type": "code",
      "metadata": {
        "id": "9DadEdrUxGR9",
        "colab_type": "code",
        "outputId": "108f3cea-dab2-4e7d-e18a-a9d4651e206b",
        "colab": {
          "base_uri": "https://localhost:8080/",
          "height": 231
        }
      },
      "source": [
        "cap = cv2.VideoCapture(0)\n",
        "font = cv2.FONT_HERSHEY_COMPLEX_SMALL\n",
        "count=0\n",
        "score=0\n",
        "thicc=2\n",
        "rpred=[99]\n",
        "lpred=[99]\n",
        "while(True):\n",
        "    ret, frame = cap.read()\n",
        "    height,width = frame.shape[:2]\n",
        "    gray = cv2.cvtColor(frame, cv2.COLOR_BGR2GRAY)\n",
        "    faces = facial.detectMultiScale(gray,minNeighbors=5,scaleFactor=1.1,minSize=(25,25))\n",
        "    left_eye = lefteye.detectMultiScale(gray)\n",
        "    right_eye = righteye.detectMultiScale(gray)\n",
        "    cv2.rectangle(frame, (0,height-50) , (200,height) , (0,0,0) , thickness=cv2.FILLED )\n",
        "    for (x,y,w,h) in faces:\n",
        "      cv2.rectangle(frame, (x,y) , (x+w,y+h) , (100,100,100) , 1 )\n",
        "    for (x,y,w,h) in right_eye:\n",
        "        r_eye=frame[y:y+h,x:x+w]\n",
        "        count=count+1\n",
        "        r_eye = cv2.cvtColor(r_eye,cv2.COLOR_BGR2GRAY)\n",
        "        r_eye = cv2.resize(r_eye,(24,24))\n",
        "        r_eye= r_eye/255\n",
        "        r_eye= r_eye.reshape(24,24,-1)\n",
        "        r_eye = np.expand_dims(r_eye,axis=0)\n",
        "        rpred = model.predict_classes(r_eye)\n",
        "        if(rpred[0]==1):\n",
        "            lbl='Open'\n",
        "        if(rpred[0]==0):\n",
        "            lbl='Closed'\n",
        "        break\n",
        "    for (x,y,w,h) in left_eye:\n",
        "        l_eye=frame[y:y+h,x:x+w]\n",
        "        count=count+1\n",
        "        l_eye = cv2.cvtColor(l_eye,cv2.COLOR_BGR2GRAY)\n",
        "        l_eye = cv2.resize(l_eye,(24,24))\n",
        "        l_eye= l_eye/255\n",
        "        l_eye=l_eye.reshape(24,24,-1)\n",
        "        l_eye = np.expand_dims(l_eye,axis=0)\n",
        "        lpred = model.predict_classes(l_eye)\n",
        "        if(lpred[0]==1):\n",
        "            lbl='Open'\n",
        "        if(lpred[0]==0):\n",
        "            lbl='Closed'\n",
        "        break\n",
        "    if(rpred[0]==0 and lpred[0]==0):\n",
        "        score=score+1\n",
        "        cv2.putText(frame,\"Closed\",(10,height-20), font, 1,(255,255,255),1,cv2.LINE_AA)\n",
        "    # if(rpred[0]==1 or lpred[0]==1):\n",
        "    else:\n",
        "        score=score-1\n",
        "        cv2.putText(frame,\"Open\",(10,height-20), font, 1,(255,255,255),1,cv2.LINE_AA)\n",
        "    if(score<0):\n",
        "        score=0\n",
        "    cv2.putText(frame,'Score:'+str(score),(100,height-20), font, 1,(255,255,255),1,cv2.LINE_AA)\n",
        "    if(score>15):\n",
        "        #person is feeling sleepy so we beep the alarm\n",
        "        cv2.imwrite(os.path.join(path,'image.jpg'),frame)\n",
        "        try:\n",
        "            alarm.play()\n",
        "        except: # isplaying = False\n",
        "            pass\n",
        "        if(thicc<16):\n",
        "            thicc= thicc+2\n",
        "        else:\n",
        "            thicc=thicc-2\n",
        "            if(thicc<2):\n",
        "                thicc=2\n",
        "        cv2.rectangle(frame,(0,0),(width,height),(0,0,255),thicc)\n",
        "    cv2.imshow('frame',frame)\n",
        "    if cv2.waitKey(1) & 0xFF == ord('q'):\n",
        "        break\n",
        "cap.release()\n",
        "cv2.destroyAllWindows()"
      ],
      "execution_count": 0,
      "outputs": [
        {
          "output_type": "error",
          "ename": "AttributeError",
          "evalue": "ignored",
          "traceback": [
            "\u001b[0;31m---------------------------------------------------------------------------\u001b[0m",
            "\u001b[0;31mAttributeError\u001b[0m                            Traceback (most recent call last)",
            "\u001b[0;32m<ipython-input-8-6a926eec3d31>\u001b[0m in \u001b[0;36m<module>\u001b[0;34m()\u001b[0m\n\u001b[1;32m      8\u001b[0m \u001b[0;32mwhile\u001b[0m\u001b[0;34m(\u001b[0m\u001b[0;32mTrue\u001b[0m\u001b[0;34m)\u001b[0m\u001b[0;34m:\u001b[0m\u001b[0;34m\u001b[0m\u001b[0;34m\u001b[0m\u001b[0m\n\u001b[1;32m      9\u001b[0m     \u001b[0mret\u001b[0m\u001b[0;34m,\u001b[0m \u001b[0mframe\u001b[0m \u001b[0;34m=\u001b[0m \u001b[0mcap\u001b[0m\u001b[0;34m.\u001b[0m\u001b[0mread\u001b[0m\u001b[0;34m(\u001b[0m\u001b[0;34m)\u001b[0m\u001b[0;34m\u001b[0m\u001b[0;34m\u001b[0m\u001b[0m\n\u001b[0;32m---> 10\u001b[0;31m     \u001b[0mheight\u001b[0m\u001b[0;34m,\u001b[0m\u001b[0mwidth\u001b[0m \u001b[0;34m=\u001b[0m \u001b[0mframe\u001b[0m\u001b[0;34m.\u001b[0m\u001b[0mshape\u001b[0m\u001b[0;34m[\u001b[0m\u001b[0;34m:\u001b[0m\u001b[0;36m2\u001b[0m\u001b[0;34m]\u001b[0m\u001b[0;34m\u001b[0m\u001b[0;34m\u001b[0m\u001b[0m\n\u001b[0m\u001b[1;32m     11\u001b[0m     \u001b[0mgray\u001b[0m \u001b[0;34m=\u001b[0m \u001b[0mcv2\u001b[0m\u001b[0;34m.\u001b[0m\u001b[0mcvtColor\u001b[0m\u001b[0;34m(\u001b[0m\u001b[0mframe\u001b[0m\u001b[0;34m,\u001b[0m \u001b[0mcv2\u001b[0m\u001b[0;34m.\u001b[0m\u001b[0mCOLOR_BGR2GRAY\u001b[0m\u001b[0;34m)\u001b[0m\u001b[0;34m\u001b[0m\u001b[0;34m\u001b[0m\u001b[0m\n\u001b[1;32m     12\u001b[0m     \u001b[0mfaces\u001b[0m \u001b[0;34m=\u001b[0m \u001b[0mface\u001b[0m\u001b[0;34m.\u001b[0m\u001b[0mdetectMultiScale\u001b[0m\u001b[0;34m(\u001b[0m\u001b[0mgray\u001b[0m\u001b[0;34m,\u001b[0m\u001b[0mminNeighbors\u001b[0m\u001b[0;34m=\u001b[0m\u001b[0;36m5\u001b[0m\u001b[0;34m,\u001b[0m\u001b[0mscaleFactor\u001b[0m\u001b[0;34m=\u001b[0m\u001b[0;36m1.1\u001b[0m\u001b[0;34m,\u001b[0m\u001b[0mminSize\u001b[0m\u001b[0;34m=\u001b[0m\u001b[0;34m(\u001b[0m\u001b[0;36m25\u001b[0m\u001b[0;34m,\u001b[0m\u001b[0;36m25\u001b[0m\u001b[0;34m)\u001b[0m\u001b[0;34m)\u001b[0m\u001b[0;34m\u001b[0m\u001b[0;34m\u001b[0m\u001b[0m\n",
            "\u001b[0;31mAttributeError\u001b[0m: 'NoneType' object has no attribute 'shape'"
          ]
        }
      ]
    }
  ]
}